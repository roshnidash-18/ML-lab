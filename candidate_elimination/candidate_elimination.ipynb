{
 "cells": [
  {
   "cell_type": "code",
   "execution_count": 3,
   "id": "fdfefe71",
   "metadata": {},
   "outputs": [
    {
     "name": "stdout",
     "output_type": "stream",
     "text": [
      "     Sky AirTemp Humidity    Wind Water Forcast EnjoySport\n",
      "0  Sunny    Warm   Normal  Strong  Warm    Same        Yes\n",
      "1  Sunny    Warm     High  Strong  Warm    Same        Yes\n",
      "2  Rainy    Cold     High  Strong  Warm  Change         No\n",
      "3  Sunny    Warm     High  Strong  Cool  Change        Yes\n",
      "[['Sunny' 'Warm' 'Normal' 'Strong' 'Warm' 'Same']\n",
      " ['Sunny' 'Warm' 'High' 'Strong' 'Warm' 'Same']\n",
      " ['Rainy' 'Cold' 'High' 'Strong' 'Warm' 'Change']\n",
      " ['Sunny' 'Warm' 'High' 'Strong' 'Cool' 'Change']]\n",
      "['Yes' 'Yes' 'No' 'Yes']\n",
      "['Sunny' 'Warm' 'Normal' 'Strong' 'Warm' 'Same']\n",
      "\n",
      "['Sunny' 'Warm' 'Normal' 'Strong' 'Warm' 'Same']\n",
      "\n",
      "['Sunny' 'Warm' 'Normal' 'Strong' 'Warm' 'Same']\n",
      "\n",
      "['Sunny' 'Warm' 'Normal' 'Strong' 'Warm' 'Same']\n",
      "\n",
      "\n",
      "[]\n",
      "['Sunny' 'Warm' 'Normal' 'Strong' 'Warm' 'Same']\n",
      "[]\n"
     ]
    }
   ],
   "source": [
    "import numpy as np\n",
    "import pandas as pd\n",
    "\n",
    "data= pd.read_csv(\"testdemo.csv\")\n",
    "print(data)\n",
    "\n",
    "concepts=np.array(data.iloc[:,0:-1])\n",
    "print(concepts)\n",
    "\n",
    "target=np.array(data.iloc[:,-1])\n",
    "print(target)\n",
    "\n",
    "def learn(concepts, target):\n",
    "    specific_h=concepts[0].copy()\n",
    "    general_h=[[\"?\" for i in range(len(specific_h))] for i in range(len(specific_h))]\n",
    "    for i, h in enumerate(concepts):\n",
    "        if target[i]==\"yes\":\n",
    "            for x in range(len(specific_h)):\n",
    "                if h[x] != specific_h[x]:\n",
    "                    specific_h[x] = '?'\n",
    "                    general_h[x][x]=specific_h[x]\n",
    "                    \n",
    "        if target[i]==\"no\":\n",
    "            for x in range(len(specific_h)):\n",
    "                if h[x]!=specific_h[x]:\n",
    "                    general_h[x][x]=specific_h[x]\n",
    "                else:\n",
    "                    general_h[x][x]='?'\n",
    "                    \n",
    "        #print(general_h)\n",
    "        print(specific_h)\n",
    "        print()\n",
    "                    \n",
    "    indices=[i for i,val in enumerate(general_h) if val==['?','?','?','?','?','?']]\n",
    "    for i in indices:\n",
    "        general_h.remove(['?','?','?','?','?','?'])\n",
    "    print()\n",
    "\n",
    "    print(general_h)\n",
    "    return specific_h, general_h\n",
    "\n",
    "s_final, f_final = learn(concepts,target)\n",
    "\n",
    "print(s_final)\n",
    "print(f_final)"
   ]
  },
  {
   "cell_type": "code",
   "execution_count": null,
   "id": "78269284",
   "metadata": {},
   "outputs": [],
   "source": []
  }
 ],
 "metadata": {
  "kernelspec": {
   "display_name": "Python 3 (ipykernel)",
   "language": "python",
   "name": "python3"
  },
  "language_info": {
   "codemirror_mode": {
    "name": "ipython",
    "version": 3
   },
   "file_extension": ".py",
   "mimetype": "text/x-python",
   "name": "python",
   "nbconvert_exporter": "python",
   "pygments_lexer": "ipython3",
   "version": "3.9.7"
  }
 },
 "nbformat": 4,
 "nbformat_minor": 5
}
